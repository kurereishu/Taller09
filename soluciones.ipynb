{
 "cells": [
  {
   "cell_type": "markdown",
   "id": "fffd76ec",
   "metadata": {},
   "source": [
    "# Tarea 09\n",
    "## Christian Ayala\n"
   ]
  },
  {
   "cell_type": "code",
   "execution_count": 1,
   "id": "27b61e59",
   "metadata": {},
   "outputs": [
    {
     "name": "stdout",
     "output_type": "stream",
     "text": [
      "Solución Sistema a): [-227.07693  476.92322 -177.69237]\n",
      "Solución Sistema b): [0.9998865 1.0000001 1.0001063]\n",
      "Solución Sistema c): [-0.03174686  0.5952499  -2.380982    2.7777972 ]\n",
      "Solución Sistema d): [1.8830408  2.8070176  0.73099405 1.4385962  0.09356717]\n"
     ]
    }
   ],
   "source": [
    "import numpy as np\n",
    "\n",
    "def gauss_jordan_32bit(A, b):\n",
    "    \"\"\"\n",
    "    Resuelve el sistema Ax = b usando el método de Gauss-Jordan\n",
    "    con aritmética de precisión simple (32 bits).\n",
    "    \"\"\"\n",
    "    # Convertir a float32 para precisión simple\n",
    "    A = A.astype(np.float32)\n",
    "    b = b.astype(np.float32)\n",
    "    \n",
    "    n = len(b)\n",
    "    M = np.column_stack((A, b)).astype(np.float32)  # Matriz aumentada\n",
    "    \n",
    "    for k in range(n):\n",
    "        # Pivoteo parcial: encontrar la fila con el máximo elemento en la columna k\n",
    "        max_row = np.argmax(np.abs(M[k:, k])) + k\n",
    "        M[[k, max_row]] = M[[max_row, k]]\n",
    "        \n",
    "        # Verificar si el pivote es cero (matriz singular)\n",
    "        if M[k, k] == 0:\n",
    "            raise ValueError(\"La matriz es singular y no se puede resolver el sistema.\")\n",
    "        \n",
    "        # Normalizar la fila del pivote\n",
    "        pivot = M[k, k]\n",
    "        M[k, :] = M[k, :] / pivot\n",
    "        \n",
    "        # Eliminación hacia adelante y hacia atrás\n",
    "        for i in range(n):\n",
    "            if i != k:\n",
    "                factor = M[i, k]\n",
    "                M[i, :] -= factor * M[k, :]\n",
    "    \n",
    "    # La solución está en la última columna\n",
    "    x = M[:, -1]\n",
    "    return x\n",
    "\n",
    "# Definición de los sistemas lineales a resolver\n",
    "\n",
    "# Sistema a)\n",
    "Aa = np.array([\n",
    "    [1/4, 1/5, 1/6],\n",
    "    [1/3, 1/4, 1/5],\n",
    "    [1/2, 1.0, 2.0]\n",
    "], dtype=np.float32)\n",
    "ba = np.array([9, 8, 8], dtype=np.float32)\n",
    "\n",
    "# Sistema b)\n",
    "Ab = np.array([\n",
    "    [3.333, 15920, -10.333],\n",
    "    [2.222, 16.71, 9.612],\n",
    "    [1.5611, 5.1791, 1.6852]\n",
    "], dtype=np.float32)\n",
    "bb = np.array([15913, 28.544, 8.4254], dtype=np.float32)\n",
    "\n",
    "# Sistema c)\n",
    "Ac = np.array([\n",
    "    [1.0, 1/2, 1/3, 1/4],\n",
    "    [1/2, 1/3, 1/4, 1/5],\n",
    "    [1/3, 1/4, 1/5, 1/6],\n",
    "    [1/4, 1/5, 1/6, 1/7]\n",
    "], dtype=np.float32)\n",
    "bc = np.array([1/6, 1/7, 1/8, 1/9], dtype=np.float32)\n",
    "\n",
    "# Sistema d)\n",
    "Ad = np.array([\n",
    "    [2.0, 1.0, -1.0, 1.0, -3.0],\n",
    "    [1.0, 0.0, 2.0, -1.0, 1.0],\n",
    "    [0.0, -2.0, -1.0, 1.0, -1.0],\n",
    "    [3.0, 1.0, -4.0, 0.0, 5.0],\n",
    "    [1.0, -1.0, -1.0, -1.0, 1.0]\n",
    "], dtype=np.float32)\n",
    "bd = np.array([7, 2, -5, 6, -3], dtype=np.float32)\n",
    "\n",
    "# Resolución de los sistemas\n",
    "print(\"Solución Sistema a):\", gauss_jordan_32bit(Aa, ba))\n",
    "print(\"Solución Sistema b):\", gauss_jordan_32bit(Ab, bb))\n",
    "print(\"Solución Sistema c):\", gauss_jordan_32bit(Ac, bc))\n",
    "print(\"Solución Sistema d):\", gauss_jordan_32bit(Ad, bd))"
   ]
  }
 ],
 "metadata": {
  "kernelspec": {
   "display_name": "base",
   "language": "python",
   "name": "python3"
  },
  "language_info": {
   "codemirror_mode": {
    "name": "ipython",
    "version": 3
   },
   "file_extension": ".py",
   "mimetype": "text/x-python",
   "name": "python",
   "nbconvert_exporter": "python",
   "pygments_lexer": "ipython3",
   "version": "3.12.7"
  }
 },
 "nbformat": 4,
 "nbformat_minor": 5
}
